{
  "nbformat": 4,
  "nbformat_minor": 0,
  "metadata": {
    "colab": {
      "provenance": [],
      "collapsed_sections": [
        "xnYWiFaxqujo"
      ],
      "toc_visible": true,
      "authorship_tag": "ABX9TyO+NCS7i2381CjYa1lZWavk",
      "include_colab_link": true
    },
    "kernelspec": {
      "name": "python3",
      "display_name": "Python 3"
    },
    "language_info": {
      "name": "python"
    }
  },
  "cells": [
    {
      "cell_type": "markdown",
      "metadata": {
        "id": "view-in-github",
        "colab_type": "text"
      },
      "source": [
        "<a href=\"https://colab.research.google.com/github/jboldoo/colab/blob/master/first_code_on_colab.ipynb\" target=\"_parent\"><img src=\"https://colab.research.google.com/assets/colab-badge.svg\" alt=\"Open In Colab\"/></a>"
      ]
    },
    {
      "cell_type": "markdown",
      "source": [
        "###Sum\n"
      ],
      "metadata": {
        "id": "xnYWiFaxqujo"
      }
    },
    {
      "cell_type": "code",
      "execution_count": 13,
      "metadata": {
        "colab": {
          "base_uri": "https://localhost:8080/"
        },
        "id": "MIDCBryCoPiL",
        "outputId": "d0b7035d-8f63-4d3d-9871-6a8d9a01870b"
      },
      "outputs": [
        {
          "output_type": "stream",
          "name": "stdout",
          "text": [
            "1\n"
          ]
        }
      ],
      "source": [
        "import functools\n",
        "arr=[9,3,4,5,1,3,4,5]\n",
        "\n",
        "print(functools.reduce(lambda p,l : p if p<l else l, arr))\n"
      ]
    },
    {
      "cell_type": "markdown",
      "source": [
        "###multi"
      ],
      "metadata": {
        "id": "v1ZiECNPu4Ds"
      }
    },
    {
      "cell_type": "code",
      "source": [
        "print(functools.reduce(lambda pe,le:pe*le,range(1,3+1)))"
      ],
      "metadata": {
        "colab": {
          "base_uri": "https://localhost:8080/"
        },
        "id": "9cEk19vivALe",
        "outputId": "91c2cd79-69ae-444a-b3f0-6ab50089943a"
      },
      "execution_count": 17,
      "outputs": [
        {
          "output_type": "stream",
          "name": "stdout",
          "text": [
            "6\n"
          ]
        }
      ]
    },
    {
      "cell_type": "code",
      "source": [],
      "metadata": {
        "id": "RHEHulnnyY7X"
      },
      "execution_count": null,
      "outputs": []
    }
  ]
}